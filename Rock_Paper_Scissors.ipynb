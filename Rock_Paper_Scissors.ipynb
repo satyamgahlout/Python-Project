{
 "cells": [
  {
   "cell_type": "markdown",
   "id": "b5cc9ea9-13ee-4b05-b895-9a1764db3bea",
   "metadata": {},
   "source": [
    "# Rock-Paper-Scissors Game\n",
    "# User Input: Prompt the user to choose rock, paper, or scissors.\n",
    "# Computer Selection: Generate a random choice (rock, paper, or scissors) for\n",
    "# the computer.\n",
    "# Game Logic: Determine the winner based on the user's choice and the\n",
    "# computer's choice.\n",
    "# Rock beats scissors, scissors beat paper, and paper beats rock.\n",
    "# Display Result: Show the user's choice and the computer's choice.\n",
    "# Display the result, whether the user wins, loses, or it's a tie.\n",
    "# Score Tracking (Optional): Keep track of the user's and computer's scores for\n",
    "# multiple rounds.\n",
    "# Play Again: Ask the user if they want to play another round.¶\n",
    "# User Interface: Design a user-friendly interface with clear instructions and\n",
    "# feedback.\n"
   ]
  },
  {
   "cell_type": "code",
   "execution_count": null,
   "id": "792fbc5c-411c-4f3e-a05a-0f77ca851a3b",
   "metadata": {},
   "outputs": [
    {
     "name": "stdout",
     "output_type": "stream",
     "text": [
      "Welcome to Rock-Paper-Scissors!\n"
     ]
    }
   ],
   "source": [
    "import random\n",
    "\n",
    "class RockPaperScissors:\n",
    "    def __init__(self):\n",
    "        self.user_score = 0\n",
    "        self.computer_score = 0\n",
    "    \n",
    "    def get_computer_choice(self):\n",
    "        return random.choice(['rock', 'paper', 'scissors'])\n",
    "    \n",
    "    def get_user_choice(self):\n",
    "        choice = input(\"Enter your choice (rock, paper, or scissors): \").lower()\n",
    "        while choice not in ['rock', 'paper', 'scissors']:\n",
    "            print(\"Invalid choice! Please choose rock, paper, or scissors.\")\n",
    "            choice = input(\"Enter your choice (rock, paper, or scissors): \").lower()\n",
    "        return choice\n",
    "\n",
    "    def determine_winner(self, user_choice, computer_choice):\n",
    "        if user_choice == computer_choice:\n",
    "            return \"It's a tie!\"\n",
    "        elif (user_choice == 'rock' and computer_choice == 'scissors') or \\\n",
    "             (user_choice == 'scissors' and computer_choice == 'paper') or \\\n",
    "             (user_choice == 'paper' and computer_choice == 'rock'):\n",
    "            self.user_score += 1\n",
    "            return \"You win!\"\n",
    "        else:\n",
    "            self.computer_score += 1\n",
    "            return \"Computer wins!\"\n",
    "\n",
    "    def display_scores(self):\n",
    "        print(f\"\\nScoreboard:\")\n",
    "        print(f\"Your score: {self.user_score}\")\n",
    "        print(f\"Computer score: {self.computer_score}\\n\")\n",
    "\n",
    "    def play_again(self):\n",
    "        return input(\"Do you want to play again? (yes/no): \").lower().startswith('y')\n",
    "\n",
    "    def play_game(self):\n",
    "        print(\"Welcome to Rock-Paper-Scissors!\")\n",
    "        \n",
    "        while True:\n",
    "            user_choice = self.get_user_choice()\n",
    "            computer_choice = self.get_computer_choice()\n",
    "\n",
    "            print(f\"\\nYou chose: {user_choice}\")\n",
    "            print(f\"Computer chose: {computer_choice}\")\n",
    "\n",
    "            result = self.determine_winner(user_choice, computer_choice)\n",
    "            print(result)\n",
    "\n",
    "            self.display_scores()\n",
    "\n",
    "            if not self.play_again():\n",
    "                print(\"Thanks for playing! Goodbye.\")\n",
    "                break\n",
    "\n",
    "# Create an instance of the game and start it\n",
    "game = RockPaperScissors()\n",
    "game.play_game()"
   ]
  },
  {
   "cell_type": "code",
   "execution_count": null,
   "id": "ef86477c-28a9-4c89-a86b-1ae35c456bea",
   "metadata": {},
   "outputs": [],
   "source": []
  }
 ],
 "metadata": {
  "kernelspec": {
   "display_name": "Python 3 (ipykernel)",
   "language": "python",
   "name": "python3"
  },
  "language_info": {
   "codemirror_mode": {
    "name": "ipython",
    "version": 3
   },
   "file_extension": ".py",
   "mimetype": "text/x-python",
   "name": "python",
   "nbconvert_exporter": "python",
   "pygments_lexer": "ipython3",
   "version": "3.11.7"
  }
 },
 "nbformat": 4,
 "nbformat_minor": 5
}
