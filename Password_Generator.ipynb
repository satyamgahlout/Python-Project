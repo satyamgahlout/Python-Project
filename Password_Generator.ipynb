{
 "cells": [
  {
   "cell_type": "code",
   "execution_count": 7,
   "id": "ec527198-9e56-44d7-adef-a12ead01054e",
   "metadata": {},
   "outputs": [
    {
     "name": "stdout",
     "output_type": "stream",
     "text": [
      "Collecting pyperclipNote: you may need to restart the kernel to use updated packages.\n",
      "\n",
      "  Downloading pyperclip-1.9.0.tar.gz (20 kB)\n",
      "  Preparing metadata (setup.py): started\n",
      "  Preparing metadata (setup.py): finished with status 'done'\n",
      "Building wheels for collected packages: pyperclip\n",
      "  Building wheel for pyperclip (setup.py): started\n",
      "  Building wheel for pyperclip (setup.py): finished with status 'done'\n",
      "  Created wheel for pyperclip: filename=pyperclip-1.9.0-py3-none-any.whl size=11019 sha256=dae083a949e4626c91bcc7e8908d96a71bdfe93f8fa3b37a625f7868871df203\n",
      "  Stored in directory: c:\\users\\satyam\\appdata\\local\\pip\\cache\\wheels\\e8\\e7\\56\\591cb88ba1783b38c40d584026e766aac9c3a048e34128ce8b\n",
      "Successfully built pyperclip\n",
      "Installing collected packages: pyperclip\n",
      "Successfully installed pyperclip-1.9.0\n"
     ]
    }
   ],
   "source": [
    "pip install pyperclip"
   ]
  },
  {
   "cell_type": "markdown",
   "id": "1bd1de37-6dcb-4cc2-a2e1-baf2d7655c05",
   "metadata": {},
   "source": [
    "# PASSWORD GENERATOR\n",
    "# A password generator is a useful tool that generates strong and\n",
    "# random passwords for users. This project aims to create a\n",
    "# password generator application using Python, allowing users to\n",
    "# specify the length and complexity of the password.\n",
    "# User Input: Prompt the user to specify the desired length of the\n",
    "# password.\n",
    "# Generate Password: Use a combination of random characters to\n",
    "# generate a password of the specified length.\n",
    "# Display the Password: Print the generated password on the screen."
   ]
  },
  {
   "cell_type": "code",
   "execution_count": null,
   "id": "fa766b75-f984-4183-8397-943832cb4364",
   "metadata": {},
   "outputs": [],
   "source": [
    "from tkinter import *\n",
    "import string \n",
    "import random\n",
    "import pyperclip\n",
    "\n",
    "def generator():\n",
    "    small_alphabet = string.ascii_lowercase  # Fixed typo\n",
    "    capital_alphabet = string.ascii_uppercase  # Fixed typo\n",
    "    number = string.digits\n",
    "    string_characters = string.punctuation\n",
    "    all_characters = small_alphabet + capital_alphabet + number + string_characters\n",
    "    password_length = int(length_Box.get())  # Correct variable name for Spinbox\n",
    "\n",
    "    passwordField.delete(0, END)  # Clear the previous password\n",
    "    \n",
    "    if choice.get() == 1:  # Weak password: Only lowercase letters\n",
    "        password = ''.join(random.choices(small_alphabet, k=password_length))\n",
    "    elif choice.get() == 2:  # Medium password: Lowercase and uppercase letters\n",
    "        password = ''.join(random.choices(small_alphabet + capital_alphabet, k=password_length))\n",
    "    elif choice.get() == 3:  # Strong password: Lowercase, uppercase, digits, and special characters\n",
    "        password = ''.join(random.choices(all_characters, k=password_length))\n",
    "    \n",
    "    passwordField.insert(0, password)\n",
    "\n",
    "def copy():\n",
    "    random_password = passwordField.get()\n",
    "    pyperclip.copy(random_password)\n",
    "\n",
    "# GUI Setup\n",
    "root = Tk()\n",
    "root.config(bg='gray20')\n",
    "choice = IntVar()\n",
    "Font = ('arial', 13, 'bold')\n",
    "\n",
    "passwordLabel = Label(root, text='Password Generator', font=('times new roman', 20, 'bold'), bg='gray20', fg='white')\n",
    "passwordLabel.grid(pady=10)\n",
    "\n",
    "weakradioButton = Radiobutton(root, text='Weak', value=1, variable=choice, font=Font)\n",
    "weakradioButton.grid(pady=5)\n",
    "\n",
    "mediumradioButton = Radiobutton(root, text='Medium', value=2, variable=choice, font=Font)\n",
    "mediumradioButton.grid(pady=5)\n",
    "\n",
    "strongradioButton = Radiobutton(root, text='Strong', value=3, variable=choice, font=Font)\n",
    "strongradioButton.grid(pady=5)\n",
    "\n",
    "lengthLabel = Label(root, text='Password Length', font=Font, bg='gray20', fg='white')\n",
    "lengthLabel.grid(pady=5)\n",
    "\n",
    "length_Box = Spinbox(root, from_=5, to_=18, width=5, font=Font)\n",
    "length_Box.grid(pady=5)\n",
    "\n",
    "generateButton = Button(root, text='Generate', font=Font, command=generator)\n",
    "generateButton.grid(pady=5)\n",
    "\n",
    "passwordField = Entry(root, width=25, bd=2, font=Font)\n",
    "passwordField.grid()\n",
    "\n",
    "copyButton = Button(root, text='Copy', font=Font, command=copy)\n",
    "copyButton.grid(pady=5)\n",
    "\n",
    "root.mainloop()"
   ]
  }
 ],
 "metadata": {
  "kernelspec": {
   "display_name": "Python 3 (ipykernel)",
   "language": "python",
   "name": "python3"
  },
  "language_info": {
   "codemirror_mode": {
    "name": "ipython",
    "version": 3
   },
   "file_extension": ".py",
   "mimetype": "text/x-python",
   "name": "python",
   "nbconvert_exporter": "python",
   "pygments_lexer": "ipython3",
   "version": "3.11.7"
  }
 },
 "nbformat": 4,
 "nbformat_minor": 5
}
